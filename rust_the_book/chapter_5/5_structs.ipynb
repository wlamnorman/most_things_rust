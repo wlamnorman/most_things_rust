{
 "cells": [
  {
   "attachments": {},
   "cell_type": "markdown",
   "metadata": {},
   "source": [
    "# Structs (to structure related data)"
   ]
  },
  {
   "cell_type": "code",
   "execution_count": 4,
   "metadata": {
    "vscode": {
     "languageId": "rust"
    }
   },
   "outputs": [
    {
     "data": {
      "text/plain": [
       "()"
      ]
     },
     "execution_count": 4,
     "metadata": {},
     "output_type": "execute_result"
    }
   ],
   "source": [
    "{\n",
    "    struct User { // struct that holds fields of related data - like a template\n",
    "        active: bool, // fields\n",
    "        username: String,\n",
    "        email: String,\n",
    "        sign_in_count: u64,\n",
    "    }\n",
    "\n",
    "    let user1 = User { // instansiate a User\n",
    "        active: true, // key:pair used to instansiate\n",
    "        username: String::from(\"someusername123\"),\n",
    "        email: String::from(\"someone@example.com\"),\n",
    "        sign_in_count: 1,\n",
    "    };\n",
    "}"
   ]
  },
  {
   "cell_type": "code",
   "execution_count": 9,
   "metadata": {
    "vscode": {
     "languageId": "rust"
    }
   },
   "outputs": [
    {
     "data": {
      "text/plain": [
       "()"
      ]
     },
     "execution_count": 9,
     "metadata": {},
     "output_type": "execute_result"
    }
   ],
   "source": [
    "{\n",
    "    struct User {\n",
    "        active: bool,\n",
    "        username: String,\n",
    "        email: String,\n",
    "        sign_in_count: u64,\n",
    "    }\n",
    "\n",
    "    let mut user1 = User { // make user1 mutable (all fields become mutable, can't have mutable parts)\n",
    "        active: true,\n",
    "        username: String::from(\"someusername123\"),\n",
    "        email: String::from(\"someone@example.com\"),\n",
    "        sign_in_count: 1,\n",
    "    };\n",
    "    user1.email = String::from(\"anotheremail@example.com\"); // updating a field of (mutable) user1\n",
    "}"
   ]
  },
  {
   "attachments": {},
   "cell_type": "markdown",
   "metadata": {},
   "source": [
    "### function to init User"
   ]
  },
  {
   "cell_type": "code",
   "execution_count": 14,
   "metadata": {
    "vscode": {
     "languageId": "rust"
    }
   },
   "outputs": [
    {
     "name": "stdout",
     "output_type": "stream",
     "text": [
      "active true, username someusername, email someusername@gmail.com, sign_in_count 1\n"
     ]
    },
    {
     "data": {
      "text/plain": [
       "()"
      ]
     },
     "execution_count": 14,
     "metadata": {},
     "output_type": "execute_result"
    }
   ],
   "source": [
    "{\n",
    "    struct User {\n",
    "        active: bool,\n",
    "        username: String,\n",
    "        email: String,\n",
    "        sign_in_count: u64,\n",
    "    }\n",
    "\n",
    "    fn build_user(email: String, username: String) -> User { // note the function signature returns a User-type\n",
    "        User {\n",
    "            active: true,\n",
    "            username, // field init shorthand to pre-populate fields with easier syntax\n",
    "                    // we don't have to repeat username: username\n",
    "            email,\n",
    "            sign_in_count: 1,\n",
    "        }\n",
    "    }\n",
    "\n",
    "    let user1 = build_user(String::from(\"someusername@gmail.com\"), String::from(\"someusername\"));\n",
    "    println!(\"active {}, username {}, email {}, sign_in_count {}\", user1.active, user1.username, user1.email, user1.sign_in_count); // this could be a function that displays a User struct\n",
    "}"
   ]
  },
  {
   "attachments": {},
   "cell_type": "markdown",
   "metadata": {},
   "source": [
    "### creating instances from other instances with struct update syntax"
   ]
  },
  {
   "cell_type": "code",
   "execution_count": 15,
   "metadata": {
    "vscode": {
     "languageId": "rust"
    }
   },
   "outputs": [
    {
     "ename": "Error",
     "evalue": "Couldn't automatically determine type of variable `user2`.\nPlease give it an explicit type.",
     "output_type": "error",
     "traceback": [
      "Couldn't automatically determine type of variable `user2`.\nPlease give it an explicit type."
     ]
    }
   ],
   "source": [
    "let user2 = User {\n",
    "    active: user1.active,\n",
    "    username: user1.username,\n",
    "    email: String::from(\"another@example.com\"),\n",
    "    sign_in_count: user1.sign_in_count,\n",
    "};\n",
    "\n",
    "// or even easier: take all from user1 except for whatever is explicitly stated\n",
    "\n",
    "let user2 = User {\n",
    "    email: String::from(\"another@example.com\"),\n",
    "    ..user1 // note that this moves ownership of user1's username (which is a String on the heap) as it is an assignment of a variable\n",
    "};"
   ]
  },
  {
   "attachments": {},
   "cell_type": "markdown",
   "metadata": {},
   "source": [
    "### `Tuple structs` (fields are not named, used to give a tuple a name, less verbose than struct, more than tuple)"
   ]
  },
  {
   "cell_type": "code",
   "execution_count": 18,
   "metadata": {
    "vscode": {
     "languageId": "rust"
    }
   },
   "outputs": [
    {
     "data": {
      "text/plain": [
       "0"
      ]
     },
     "execution_count": 18,
     "metadata": {},
     "output_type": "execute_result"
    }
   ],
   "source": [
    "{\n",
    "    struct Color(i32, i32, i32);\n",
    "    struct Point(i32, i32, i32);\n",
    "\n",
    "    let black = Color(0, 0, 0);\n",
    "    let origin = Point(0, 0, 0);\n",
    "\n",
    "    black.1 // can use .syntax to get elements as with tuples\n",
    "        // note that Tuple structs are given a specific type, so Color(i32, i32, i32) != Point(i32, i32, i32) even when instansiated with the same values\n",
    "\n",
    "}"
   ]
  },
  {
   "attachments": {},
   "cell_type": "markdown",
   "metadata": {},
   "source": [
    "## `Unit structs` (structs without any fields, but with a specific type)"
   ]
  },
  {
   "attachments": {},
   "cell_type": "markdown",
   "metadata": {},
   "source": [
    "#### Why would we want to use unit structs?\n",
    "* Type Safety: When working with types, you might want a unique type to signify something special, even if it doesn't hold any data. A unit struct provides a new, distinct type that you can use to implement specific behaviors without the risk of it being confused with other types.\n",
    "* Trait Implementation: Unit structs can implement traits, so you can use them to provide specific implementations without carrying additional data. This is useful when the trait's behavior doesn't depend on the state of the struct.\n",
    "* Marker Types: They can act as marker types to signify some special case or configuration, which can be particularly useful in generic programming.\n",
    "* Code Semantics: Unit structs help make the code more expressive by giving a name to a concept, even if that concept doesn't require data storage.\n",
    "* Placeholder: If you are prototyping and want to define a struct without deciding on its fields, you can start with a unit struct."
   ]
  },
  {
   "cell_type": "code",
   "execution_count": 20,
   "metadata": {
    "vscode": {
     "languageId": "rust"
    }
   },
   "outputs": [
    {
     "name": "stdout",
     "output_type": "stream",
     "text": [
      "Hello!\n",
      "Woof!\n"
     ]
    }
   ],
   "source": [
    "trait Speak {\n",
    "    fn speak(&self);\n",
    "}\n",
    "\n",
    "struct Human; // struct is defined without any curly braces\n",
    "struct Dog;\n",
    "\n",
    "impl Speak for Human {\n",
    "    fn speak(&self) {\n",
    "        println!(\"Hello!\");\n",
    "    }\n",
    "}\n",
    "\n",
    "impl Speak for Dog {\n",
    "    fn speak(&self) {\n",
    "        println!(\"Woof!\");\n",
    "    }\n",
    "}\n",
    "\n",
    "fn animal_speak<T: Speak>(animal: T) {\n",
    "    animal.speak();\n",
    "}\n",
    "\n",
    "    let h = Human;\n",
    "    let d = Dog;\n",
    "\n",
    "    animal_speak(h);\n",
    "    animal_speak(d);"
   ]
  },
  {
   "attachments": {},
   "cell_type": "markdown",
   "metadata": {},
   "source": [
    "in the above Human and Dog are unit structs without any data, yet their types make them useful in this context"
   ]
  },
  {
   "attachments": {},
   "cell_type": "markdown",
   "metadata": {},
   "source": [
    "### Structs and Ownership of Struct Data\n",
    "in the owner struct we used `String` rather than `&str` which was a deliberate choice because we want each instance of the struct to own all of its data and for that data to be valid as long as the entire struct is valid.\n",
    "\n",
    "It is possible for the fields of a struct to be references to data owned by something else, but to do so requires `lifetimes` which is a feature we'll cover later."
   ]
  },
  {
   "cell_type": "code",
   "execution_count": 22,
   "metadata": {
    "vscode": {
     "languageId": "rust"
    }
   },
   "outputs": [
    {
     "ename": "Error",
     "evalue": "missing lifetime specifier",
     "output_type": "error",
     "traceback": [
      "\u001b[31m[E0106] Error:\u001b[0m missing lifetime specifier",
      "   \u001b[38;5;246m╭\u001b[0m\u001b[38;5;246m─\u001b[0m\u001b[38;5;246m[\u001b[0mcommand_22:1:1\u001b[38;5;246m]\u001b[0m",
      "   \u001b[38;5;246m│\u001b[0m",
      " \u001b[38;5;246m4 │\u001b[0m \u001b[38;5;249m \u001b[0m\u001b[38;5;249m \u001b[0m\u001b[38;5;249m \u001b[0m\u001b[38;5;249m \u001b[0m\u001b[38;5;249m \u001b[0m\u001b[38;5;249m \u001b[0m\u001b[38;5;249m \u001b[0m\u001b[38;5;249m \u001b[0m\u001b[38;5;249mu\u001b[0m\u001b[38;5;249ms\u001b[0m\u001b[38;5;249me\u001b[0m\u001b[38;5;249mr\u001b[0m\u001b[38;5;249mn\u001b[0m\u001b[38;5;249ma\u001b[0m\u001b[38;5;249mm\u001b[0m\u001b[38;5;249me\u001b[0m\u001b[38;5;249m:\u001b[0m\u001b[38;5;249m \u001b[0m\u001b[38;5;54m&\u001b[0m\u001b[38;5;249ms\u001b[0m\u001b[38;5;249mt\u001b[0m\u001b[38;5;249mr\u001b[0m\u001b[38;5;249m,\u001b[0m\u001b[38;5;249m \u001b[0m\u001b[38;5;249m/\u001b[0m\u001b[38;5;249m/\u001b[0m\u001b[38;5;249m \u001b[0m\u001b[38;5;249mr\u001b[0m\u001b[38;5;249me\u001b[0m\u001b[38;5;249mf\u001b[0m\u001b[38;5;249me\u001b[0m\u001b[38;5;249mr\u001b[0m\u001b[38;5;249me\u001b[0m\u001b[38;5;249mn\u001b[0m\u001b[38;5;249mc\u001b[0m\u001b[38;5;249me\u001b[0m",
      " \u001b[38;5;240m  │\u001b[0m                   \u001b[38;5;54m┬\u001b[0m  ",
      " \u001b[38;5;240m  │\u001b[0m                   \u001b[38;5;54m╰\u001b[0m\u001b[38;5;54m─\u001b[0m\u001b[38;5;54m─\u001b[0m expected named lifetime parameter",
      "\u001b[38;5;246m───╯\u001b[0m"
     ]
    },
    {
     "ename": "Error",
     "evalue": "missing lifetime specifier",
     "output_type": "error",
     "traceback": [
      "\u001b[31m[E0106] Error:\u001b[0m missing lifetime specifier",
      "   \u001b[38;5;246m╭\u001b[0m\u001b[38;5;246m─\u001b[0m\u001b[38;5;246m[\u001b[0mcommand_22:1:1\u001b[38;5;246m]\u001b[0m",
      "   \u001b[38;5;246m│\u001b[0m",
      " \u001b[38;5;246m5 │\u001b[0m \u001b[38;5;249m \u001b[0m\u001b[38;5;249m \u001b[0m\u001b[38;5;249m \u001b[0m\u001b[38;5;249m \u001b[0m\u001b[38;5;249m \u001b[0m\u001b[38;5;249m \u001b[0m\u001b[38;5;249m \u001b[0m\u001b[38;5;249m \u001b[0m\u001b[38;5;249me\u001b[0m\u001b[38;5;249mm\u001b[0m\u001b[38;5;249ma\u001b[0m\u001b[38;5;249mi\u001b[0m\u001b[38;5;249ml\u001b[0m\u001b[38;5;249m:\u001b[0m\u001b[38;5;249m \u001b[0m\u001b[38;5;54m&\u001b[0m\u001b[38;5;249ms\u001b[0m\u001b[38;5;249mt\u001b[0m\u001b[38;5;249mr\u001b[0m\u001b[38;5;249m,\u001b[0m\u001b[38;5;249m \u001b[0m\u001b[38;5;249m/\u001b[0m\u001b[38;5;249m/\u001b[0m\u001b[38;5;249m \u001b[0m\u001b[38;5;249mr\u001b[0m\u001b[38;5;249me\u001b[0m\u001b[38;5;249mf\u001b[0m\u001b[38;5;249me\u001b[0m\u001b[38;5;249mr\u001b[0m\u001b[38;5;249me\u001b[0m\u001b[38;5;249mn\u001b[0m\u001b[38;5;249mc\u001b[0m\u001b[38;5;249me\u001b[0m",
      " \u001b[38;5;240m  │\u001b[0m                \u001b[38;5;54m┬\u001b[0m  ",
      " \u001b[38;5;240m  │\u001b[0m                \u001b[38;5;54m╰\u001b[0m\u001b[38;5;54m─\u001b[0m\u001b[38;5;54m─\u001b[0m expected named lifetime parameter",
      "\u001b[38;5;246m───╯\u001b[0m"
     ]
    }
   ],
   "source": [
    "{\n",
    "    struct User {\n",
    "        active: bool,\n",
    "        username: &str, // reference\n",
    "        email: &str, // reference\n",
    "        sign_in_count: u64,\n",
    "    }\n",
    "\n",
    "    let user1 = User {\n",
    "        active: true,\n",
    "        username: \"someusername123\",\n",
    "        email: \"someone@example.com\",\n",
    "        sign_in_count: 1,\n",
    "    };\n",
    "}"
   ]
  }
 ],
 "metadata": {
  "kernelspec": {
   "display_name": "Rust",
   "language": "rust",
   "name": "rust"
  },
  "language_info": {
   "codemirror_mode": "rust",
   "file_extension": ".rs",
   "mimetype": "text/rust",
   "name": "Rust",
   "pygment_lexer": "rust",
   "version": ""
  },
  "orig_nbformat": 4
 },
 "nbformat": 4,
 "nbformat_minor": 2
}
