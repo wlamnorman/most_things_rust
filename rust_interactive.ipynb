{
 "cells": [
  {
   "attachments": {},
   "cell_type": "markdown",
   "metadata": {},
   "source": [
    "# Running Rust code interactively with the `evcxr` kernel\n",
    "Note that there is a trade off between efficiency of running code and the convenience of testing code interactively with evcxr. When a cell is run evcxr has to carry out some tasks described below, before running the actual code.\n",
    "\n",
    "* Compilation: Unlike languages designed for interactivity (like Python), Rust code has to be compiled before it can be executed. In a Jupyter notebook with the evcxr kernel, every time you run a cell, the code in that cell is being compiled. While the code snippet you provided is simple, Rust's compiler (rustc) performs a number of optimizations and checks which can introduce a delay.\n",
    "\n",
    "* Interactivity Overhead: Interactive environments often have additional overhead for managing the session, keeping track of state, displaying results, etc. This can add some time to the code's execution, especially for very short snippets where this overhead becomes a significant portion of the total time.\n",
    "\n",
    "* First-time Initialization: The first time you run a Rust cell in a session, there might be additional initializations taking place behind the scenes in the evcxr kernel. Subsequent executions might be faster."
   ]
  },
  {
   "cell_type": "code",
   "execution_count": 2,
   "metadata": {},
   "outputs": [
    {
     "name": "stdout",
     "output_type": "stream",
     "text": [
      "Hello, Rust in Jupyter!\n"
     ]
    }
   ],
   "source": [
    "println!(\"Hello, Rust in Jupyter!\");"
   ]
  },
  {
   "cell_type": "code",
   "execution_count": 14,
   "metadata": {},
   "outputs": [
    {
     "data": {
      "text/plain": [
       "12"
      ]
     },
     "execution_count": 14,
     "metadata": {},
     "output_type": "execute_result"
    }
   ],
   "source": [
    "let x = 5;\n",
    "let y = 7;\n",
    "x + y"
   ]
  },
  {
   "cell_type": "code",
   "execution_count": 4,
   "metadata": {},
   "outputs": [
    {
     "data": {
      "text/plain": [
       "15"
      ]
     },
     "execution_count": 4,
     "metadata": {},
     "output_type": "execute_result"
    }
   ],
   "source": [
    "let v = vec![1, 2, 3, 4, 5];\n",
    "v.iter().sum::<i32>()"
   ]
  },
  {
   "attachments": {},
   "cell_type": "markdown",
   "metadata": {},
   "source": [
    "## Adding dependencies\n",
    "Fetching the Crate (rand below): The kernel communicates with crates.io (or another specified source) to fetch the crate. Depending on the size of the crate and its dependencies, as well as your internet connection speed, this step can vary in duration."
   ]
  },
  {
   "cell_type": "code",
   "execution_count": 5,
   "metadata": {},
   "outputs": [],
   "source": [
    ":dep rand = \"0.8\""
   ]
  },
  {
   "cell_type": "code",
   "execution_count": 6,
   "metadata": {},
   "outputs": [
    {
     "data": {
      "text/plain": [
       "0.8361853293564134"
      ]
     },
     "execution_count": 6,
     "metadata": {},
     "output_type": "execute_result"
    }
   ],
   "source": [
    "let random_value: f64 = rand::random();\n",
    "random_value"
   ]
  },
  {
   "cell_type": "code",
   "execution_count": 7,
   "metadata": {},
   "outputs": [
    {
     "data": {
      "text/plain": [
       "\"Hello, evcxr!\""
      ]
     },
     "execution_count": 7,
     "metadata": {},
     "output_type": "execute_result"
    }
   ],
   "source": [
    "let s = \"evcxr\".to_string();\n",
    "format!(\"Hello, {}!\", s)"
   ]
  },
  {
   "cell_type": "code",
   "execution_count": null,
   "metadata": {},
   "outputs": [],
   "source": []
  }
 ],
 "metadata": {
  "kernelspec": {
   "display_name": "Rust",
   "language": "rust",
   "name": "rust"
  },
  "language_info": {
   "codemirror_mode": "rust",
   "file_extension": ".rs",
   "mimetype": "text/rust",
   "name": "rust",
   "pygment_lexer": "rust",
   "version": ""
  },
  "orig_nbformat": 4
 },
 "nbformat": 4,
 "nbformat_minor": 2
}
